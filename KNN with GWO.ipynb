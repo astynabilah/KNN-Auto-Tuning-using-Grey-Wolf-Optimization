{
 "cells": [
  {
   "cell_type": "markdown",
   "id": "12717ef0",
   "metadata": {},
   "source": [
    "# Import and Preprocessing"
   ]
  },
  {
   "cell_type": "code",
   "execution_count": 1,
   "id": "76cd1854",
   "metadata": {},
   "outputs": [],
   "source": [
    "import pandas as pd"
   ]
  },
  {
   "cell_type": "code",
   "execution_count": 2,
   "id": "a1e62517",
   "metadata": {},
   "outputs": [],
   "source": [
    "df_train = pd.read_csv('df_train.csv')\n",
    "df_val = pd.read_csv('df_val.csv')\n",
    "df_test = pd.read_csv('df_test.csv')"
   ]
  },
  {
   "cell_type": "code",
   "execution_count": 3,
   "id": "012da533",
   "metadata": {},
   "outputs": [],
   "source": [
    "df_train = df_train.dropna()\n",
    "df_val = df_val.dropna()\n",
    "df_test = df_test.dropna()"
   ]
  },
  {
   "cell_type": "code",
   "execution_count": 4,
   "id": "b43c3a40",
   "metadata": {},
   "outputs": [],
   "source": [
    "from sklearn.feature_extraction.text import TfidfVectorizer\n",
    "from sklearn.neighbors import KNeighborsClassifier\n",
    "from sklearn.metrics import classification_report\n",
    "\n",
    "\n",
    "training_texts = df_train['tweet']\n",
    "training_labels = df_train['label']\n",
    "\n",
    "validation_texts = df_val['tweet']\n",
    "validation_labels = df_val['label']\n",
    "\n",
    "testing_texts = df_test['tweet']\n",
    "testing_labels = df_test['label']\n",
    "\n",
    "tfidf_vectorizer = TfidfVectorizer()\n",
    "X_train_tfidf = tfidf_vectorizer.fit_transform(training_texts)\n",
    "X_val_tfidf = tfidf_vectorizer.transform(validation_texts)\n",
    "X_test_tfidf = tfidf_vectorizer.transform(testing_texts)"
   ]
  },
  {
   "cell_type": "markdown",
   "id": "6795ec19",
   "metadata": {},
   "source": [
    "# Baseline"
   ]
  },
  {
   "cell_type": "code",
   "execution_count": 5,
   "id": "28a01954",
   "metadata": {},
   "outputs": [
    {
     "name": "stdout",
     "output_type": "stream",
     "text": [
      "              precision    recall  f1-score   support\n",
      "\n",
      "           0       0.88      0.66      0.75      1037\n",
      "           1       0.63      0.86      0.73       693\n",
      "\n",
      "    accuracy                           0.74      1730\n",
      "   macro avg       0.75      0.76      0.74      1730\n",
      "weighted avg       0.78      0.74      0.74      1730\n",
      "\n",
      "              precision    recall  f1-score   support\n",
      "\n",
      "           0       0.88      0.63      0.73      1411\n",
      "           1       0.64      0.89      0.74      1051\n",
      "\n",
      "    accuracy                           0.74      2462\n",
      "   macro avg       0.76      0.76      0.74      2462\n",
      "weighted avg       0.78      0.74      0.74      2462\n",
      "\n"
     ]
    }
   ],
   "source": [
    "knn = KNeighborsClassifier(n_neighbors=5)  # Adjust the number of neighbors as needed\n",
    "knn.fit(X_train_tfidf, training_labels)\n",
    "\n",
    "y_val_pred = knn.predict(X_val_tfidf)\n",
    "print(classification_report(validation_labels, y_val_pred))\n",
    "\n",
    "y_test_pred = knn.predict(X_test_tfidf)\n",
    "print(classification_report(testing_labels, y_test_pred))"
   ]
  },
  {
   "cell_type": "markdown",
   "id": "85e9956b",
   "metadata": {},
   "source": [
    "# KNN Optimized by GWO"
   ]
  },
  {
   "cell_type": "code",
   "execution_count": 12,
   "id": "82ebaa99",
   "metadata": {},
   "outputs": [],
   "source": [
    "from sklearn.model_selection import cross_val_score\n",
    "from sklearn.neighbors import KNeighborsClassifier\n",
    "\n",
    "from niapy.problems import Problem\n",
    "from niapy.task import OptimizationType, Task\n",
    "from niapy.algorithms.basic import GreyWolfOptimizer\n",
    "\n",
    "def get_hyperparameters(x):\n",
    "    \"\"\"Get hyperparameters for solution `x`.\"\"\"\n",
    "    algorithms = ('ball_tree', 'kd_tree', 'brute')\n",
    "    n_neighbors = int(5 + x[0] * 10)\n",
    "    weights = 'uniform' if x[1] < 0.5 else 'distance'\n",
    "    algorithm = algorithms[int(x[2] * 2)]\n",
    "    leaf_size = int(10 + x[3] * 40)\n",
    "\n",
    "    params =  {\n",
    "        'n_neighbors': n_neighbors,\n",
    "        'weights': weights,\n",
    "        'algorithm': algorithm,\n",
    "        'leaf_size': leaf_size\n",
    "    }\n",
    "    return params\n",
    "\n",
    "\n",
    "def get_classifier(x):\n",
    "    \"\"\"Get classifier from solution `x`.\"\"\"\n",
    "    params = get_hyperparameters(x)\n",
    "    return KNeighborsClassifier(**params)"
   ]
  },
  {
   "cell_type": "code",
   "execution_count": 13,
   "id": "695fda63",
   "metadata": {},
   "outputs": [],
   "source": [
    "class KNNHyperparameterOptimization(Problem):\n",
    "    def __init__(self, X_train_tfidf, y_train):\n",
    "        super().__init__(dimension=4, lower=0, upper=1)\n",
    "        self.X_train_tfidf = X_train_tfidf\n",
    "        self.y_train = y_train\n",
    "\n",
    "    def _evaluate(self, x):\n",
    "        model = get_classifier(x)\n",
    "        scores = cross_val_score(model, self.X_train_tfidf, self.y_train, cv=2, n_jobs=-1)\n",
    "        return scores.mean()"
   ]
  },
  {
   "cell_type": "code",
   "execution_count": 16,
   "id": "5e534af4",
   "metadata": {},
   "outputs": [
    {
     "name": "stdout",
     "output_type": "stream",
     "text": [
      "Best parameters: {'n_neighbors': 6, 'weights': 'uniform', 'algorithm': 'ball_tree', 'leaf_size': 47}\n"
     ]
    }
   ],
   "source": [
    "problem = KNNHyperparameterOptimization(X_train_tfidf, y_train)\n",
    "\n",
    "# We will be running maximization for 100 iters on `problem`\n",
    "task = Task(problem, max_iters=100, optimization_type=OptimizationType.MAXIMIZATION)\n",
    "\n",
    "gwo = GreyWolfOptimizer(population_size=10, seed=42)\n",
    "best_params, best_score = gwo.run(task)\n",
    "\n",
    "print('Best parameters:', get_hyperparameters(best_params))"
   ]
  },
  {
   "cell_type": "code",
   "execution_count": 17,
   "id": "e3b24cdf",
   "metadata": {},
   "outputs": [
    {
     "name": "stderr",
     "output_type": "stream",
     "text": [
      "C:\\Users\\Asty\\anaconda3\\lib\\site-packages\\sklearn\\neighbors\\_base.py:584: UserWarning: cannot use tree with sparse input: using brute force\n",
      "  warnings.warn(\"cannot use tree with sparse input: using brute force\")\n"
     ]
    },
    {
     "name": "stdout",
     "output_type": "stream",
     "text": [
      "Default model accuracy: 0.7384240454914703\n",
      "Best model accuracy: 0.7680747359870025\n"
     ]
    }
   ],
   "source": [
    "default_model = KNeighborsClassifier()\n",
    "best_model = get_classifier(best_params)\n",
    "\n",
    "default_model.fit(X_train_tfidf, y_train)\n",
    "best_model.fit(X_train_tfidf, y_train)\n",
    "\n",
    "default_score = default_model.score(X_test_tfidf, y_test)\n",
    "best_score = best_model.score(X_test_tfidf, y_test)\n",
    "\n",
    "print('Default model accuracy:', default_score)\n",
    "print('Best model accuracy:', best_score)"
   ]
  },
  {
   "cell_type": "code",
   "execution_count": null,
   "id": "3ad33a5c",
   "metadata": {},
   "outputs": [],
   "source": []
  }
 ],
 "metadata": {
  "kernelspec": {
   "display_name": "Python 3 (ipykernel)",
   "language": "python",
   "name": "python3"
  },
  "language_info": {
   "codemirror_mode": {
    "name": "ipython",
    "version": 3
   },
   "file_extension": ".py",
   "mimetype": "text/x-python",
   "name": "python",
   "nbconvert_exporter": "python",
   "pygments_lexer": "ipython3",
   "version": "3.9.12"
  }
 },
 "nbformat": 4,
 "nbformat_minor": 5
}
